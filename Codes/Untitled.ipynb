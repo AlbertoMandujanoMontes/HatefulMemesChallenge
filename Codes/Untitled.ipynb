{
 "cells": [
  {
   "cell_type": "code",
   "execution_count": 1,
   "metadata": {},
   "outputs": [],
   "source": [
    "import pandas as pd\n",
    "import numpy as np\n",
    "import json\n",
    "import re\n",
    "import ast"
   ]
  },
  {
   "cell_type": "code",
   "execution_count": 2,
   "metadata": {},
   "outputs": [],
   "source": [
    "with open('../../data/train.jsonl', 'r') as json_file:\n",
    "    json_list = list(json_file)\n",
    "\n"
   ]
  },
  {
   "cell_type": "code",
   "execution_count": 3,
   "metadata": {},
   "outputs": [],
   "source": [
    "\n",
    "list_of_data = []\n",
    "\n",
    "for json_str in json_list:\n",
    "    register_as_dictionary = ast.literal_eval(json_str)\n",
    "    id= register_as_dictionary['id']\n",
    "    image = register_as_dictionary['img']\n",
    "    re.search('[0-9]+\\.png',image).group(0)\n",
    "    label = register_as_dictionary['label']\n",
    "    text = register_as_dictionary['text']  \n",
    "    list_of_data.append([id,image,text,label])\n",
    "    "
   ]
  },
  {
   "cell_type": "code",
   "execution_count": 4,
   "metadata": {},
   "outputs": [],
   "source": [
    "df=pd.DataFrame(list_of_data,columns=['id','img','text','label'])"
   ]
  },
  {
   "cell_type": "code",
   "execution_count": 8,
   "metadata": {},
   "outputs": [
    {
     "data": {
      "text/html": [
       "<div>\n",
       "<style scoped>\n",
       "    .dataframe tbody tr th:only-of-type {\n",
       "        vertical-align: middle;\n",
       "    }\n",
       "\n",
       "    .dataframe tbody tr th {\n",
       "        vertical-align: top;\n",
       "    }\n",
       "\n",
       "    .dataframe thead th {\n",
       "        text-align: right;\n",
       "    }\n",
       "</style>\n",
       "<table border=\"1\" class=\"dataframe\">\n",
       "  <thead>\n",
       "    <tr style=\"text-align: right;\">\n",
       "      <th></th>\n",
       "      <th>id</th>\n",
       "      <th>img</th>\n",
       "      <th>text</th>\n",
       "      <th>label</th>\n",
       "    </tr>\n",
       "  </thead>\n",
       "  <tbody>\n",
       "    <tr>\n",
       "      <th>0</th>\n",
       "      <td>42953</td>\n",
       "      <td>img\\/42953.png</td>\n",
       "      <td>its their character not their color that matters</td>\n",
       "      <td>0</td>\n",
       "    </tr>\n",
       "    <tr>\n",
       "      <th>1</th>\n",
       "      <td>23058</td>\n",
       "      <td>img\\/23058.png</td>\n",
       "      <td>don't be afraid to love again everyone is not ...</td>\n",
       "      <td>0</td>\n",
       "    </tr>\n",
       "    <tr>\n",
       "      <th>2</th>\n",
       "      <td>13894</td>\n",
       "      <td>img\\/13894.png</td>\n",
       "      <td>putting bows on your pet</td>\n",
       "      <td>0</td>\n",
       "    </tr>\n",
       "    <tr>\n",
       "      <th>3</th>\n",
       "      <td>37408</td>\n",
       "      <td>img\\/37408.png</td>\n",
       "      <td>i love everything and everybody! except for sq...</td>\n",
       "      <td>0</td>\n",
       "    </tr>\n",
       "    <tr>\n",
       "      <th>4</th>\n",
       "      <td>82403</td>\n",
       "      <td>img\\/82403.png</td>\n",
       "      <td>everybody loves chocolate chip cookies, even h...</td>\n",
       "      <td>0</td>\n",
       "    </tr>\n",
       "  </tbody>\n",
       "</table>\n",
       "</div>"
      ],
      "text/plain": [
       "      id             img                                               text  \\\n",
       "0  42953  img\\/42953.png   its their character not their color that matters   \n",
       "1  23058  img\\/23058.png  don't be afraid to love again everyone is not ...   \n",
       "2  13894  img\\/13894.png                           putting bows on your pet   \n",
       "3  37408  img\\/37408.png  i love everything and everybody! except for sq...   \n",
       "4  82403  img\\/82403.png  everybody loves chocolate chip cookies, even h...   \n",
       "\n",
       "   label  \n",
       "0      0  \n",
       "1      0  \n",
       "2      0  \n",
       "3      0  \n",
       "4      0  "
      ]
     },
     "execution_count": 8,
     "metadata": {},
     "output_type": "execute_result"
    }
   ],
   "source": [
    "df.head()"
   ]
  },
  {
   "cell_type": "code",
   "execution_count": 26,
   "metadata": {},
   "outputs": [
    {
     "name": "stdout",
     "output_type": "stream",
     "text": [
      "img\\/23058.png\n",
      "23058.png\n"
     ]
    }
   ],
   "source": [
    "json_str = json_list[1]\n",
    "register_as_dictionary = ast.literal_eval(json_str)\n",
    "image = register_as_dictionary['img']\n",
    "print(image)\n",
    "print(re.search('[0-9]+\\.png',image).group(0))"
   ]
  },
  {
   "cell_type": "code",
   "execution_count": 25,
   "metadata": {},
   "outputs": [
    {
     "data": {
      "text/plain": [
       "'23058.png'"
      ]
     },
     "execution_count": 25,
     "metadata": {},
     "output_type": "execute_result"
    }
   ],
   "source": [
    "asdf =re.search('[0-9]+\\.png',image)\n",
    "asdf.group(0)"
   ]
  },
  {
   "cell_type": "code",
   "execution_count": null,
   "metadata": {},
   "outputs": [],
   "source": [
    "json_str = json_list[0]\n",
    "result = str(json.loads(json_str))\n",
    "print(result)\n",
    "splited = result.split(',')\n",
    "print(splited)\n",
    "id_val = re.findall('\\\\b\\\\d+\\\\b', splited[0])[0]\n",
    "imagen = \"img/\" + re.findall(\"\\\\b\\\\d+\\\\b\", splited[1])[0] + \".png\"\n",
    "label = re.findall(\"\\\\b\\\\d+\\\\b\", splited[2])[0]\n",
    "texto = re.findall(r\"'(.*?)'\", splited[3].split(\":\")[1])[0]\n",
    "texto"
   ]
  },
  {
   "cell_type": "code",
   "execution_count": null,
   "metadata": {},
   "outputs": [],
   "source": [
    "dict_cre = ast.literal_eval(json_list[1])\n",
    "\n",
    "dict_cre['img']"
   ]
  },
  {
   "cell_type": "code",
   "execution_count": null,
   "metadata": {},
   "outputs": [],
   "source": [
    "splited[3]"
   ]
  },
  {
   "cell_type": "code",
   "execution_count": null,
   "metadata": {},
   "outputs": [],
   "source": [
    "re.search(r\"\\'\\[([A-Za-z0-9_]+)\\'\", splited[3].split(\":\")[1])"
   ]
  },
  {
   "cell_type": "code",
   "execution_count": null,
   "metadata": {},
   "outputs": [],
   "source": [
    "print(result)"
   ]
  },
  {
   "cell_type": "code",
   "execution_count": null,
   "metadata": {},
   "outputs": [],
   "source": [
    "re.findall(r\"'(.*?)'\", splited[3].split(\":\")[1])[0]"
   ]
  },
  {
   "cell_type": "code",
   "execution_count": null,
   "metadata": {},
   "outputs": [],
   "source": []
  }
 ],
 "metadata": {
  "kernelspec": {
   "display_name": "Python 3",
   "language": "python",
   "name": "python3"
  },
  "language_info": {
   "codemirror_mode": {
    "name": "ipython",
    "version": 3
   },
   "file_extension": ".py",
   "mimetype": "text/x-python",
   "name": "python",
   "nbconvert_exporter": "python",
   "pygments_lexer": "ipython3",
   "version": "3.8.1"
  }
 },
 "nbformat": 4,
 "nbformat_minor": 4
}
